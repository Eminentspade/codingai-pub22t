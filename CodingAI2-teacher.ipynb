{
 "cells": [
  {
   "cell_type": "markdown",
   "metadata": {},
   "source": [
    "# Code for CodingAI Lesson 2 -- Solutions"
   ]
  },
  {
   "cell_type": "markdown",
   "metadata": {},
   "source": [
    "***"
   ]
  },
  {
   "cell_type": "markdown",
   "metadata": {},
   "source": [
    "## The print() function"
   ]
  },
  {
   "cell_type": "code",
   "execution_count": null,
   "metadata": {},
   "outputs": [],
   "source": [
    "print('Hello, World!')\n",
    "print(Hello, World!)    # error: invalid syntax"
   ]
  },
  {
   "cell_type": "code",
   "execution_count": null,
   "metadata": {},
   "outputs": [],
   "source": [
    "msg = 'Hello, World!'\n",
    "msg"
   ]
  },
  {
   "cell_type": "code",
   "execution_count": null,
   "metadata": {},
   "outputs": [],
   "source": [
    "user_name = 'Python coder'\n",
    "msg = 'Hello, ' + user_name + ', how are you?'\n",
    "print(msg)"
   ]
  },
  {
   "cell_type": "code",
   "execution_count": null,
   "metadata": {},
   "outputs": [],
   "source": [
    "age = 15\n",
    "msg1 = 'I am ' + age + ' years old.'\n",
    "print(msg1)    # TypeError"
   ]
  },
  {
   "cell_type": "code",
   "execution_count": null,
   "metadata": {},
   "outputs": [],
   "source": [
    "age = 15\n",
    "msg1 = 'I am ' + str(age) + ' years old.'\n",
    "print(msg1)"
   ]
  },
  {
   "cell_type": "code",
   "execution_count": null,
   "metadata": {},
   "outputs": [],
   "source": [
    "print(msg)\n",
    "print()\n",
    "print(msg)"
   ]
  },
  {
   "cell_type": "code",
   "execution_count": null,
   "metadata": {},
   "outputs": [],
   "source": [
    "print(msg, end='')\n",
    "print(end='')\n",
    "print(msg, end='')"
   ]
  },
  {
   "cell_type": "markdown",
   "metadata": {},
   "source": [
    "#### Exercise: The print() function"
   ]
  },
  {
   "cell_type": "code",
   "execution_count": null,
   "metadata": {},
   "outputs": [],
   "source": [
    "quantity = 5\n",
    "msg = 'You order ' + str(quantity) + ' books from our store. Thank you.'\n",
    "print(msg)"
   ]
  },
  {
   "cell_type": "code",
   "execution_count": null,
   "metadata": {},
   "outputs": [],
   "source": [
    "msg_head = 'You order '\n",
    "msg_tail = 'Thank you for shopping at PPMall.'\n",
    "chocolate = 3\n",
    "orange_juice = 5\n",
    "movie_ticket = 4\n",
    "# TODO\n",
    "msg = msg_head + str(chocolate) + ' chocolate ice-cream, ' + str(orange_juice)\n",
    "msg += ' orange juice, and ' + str(movie_ticket) + ' movie tickets. '\n",
    "msg += msg_tail \n",
    "print(msg)"
   ]
  },
  {
   "cell_type": "markdown",
   "metadata": {},
   "source": [
    "***"
   ]
  },
  {
   "cell_type": "markdown",
   "metadata": {},
   "source": [
    "## Functions"
   ]
  },
  {
   "cell_type": "code",
   "execution_count": null,
   "metadata": {},
   "outputs": [],
   "source": [
    "def f(x):               # def FUNCTION_NAME(ARGUMENT):\n",
    "    return x + 5"
   ]
  },
  {
   "cell_type": "code",
   "execution_count": null,
   "metadata": {},
   "outputs": [],
   "source": [
    "f(10)"
   ]
  },
  {
   "cell_type": "code",
   "execution_count": null,
   "metadata": {},
   "outputs": [],
   "source": [
    "y = f(10)\n",
    "print(y)"
   ]
  },
  {
   "cell_type": "code",
   "execution_count": null,
   "metadata": {},
   "outputs": [],
   "source": [
    "def circle_area(r):\n",
    "    pi = 3.141592654\n",
    "    area = pi*r**r\n",
    "    msg = 'The circle with radius ' + str(r) + ' has area = ' + str(area) + '.'\n",
    "    print(msg)"
   ]
  },
  {
   "cell_type": "code",
   "execution_count": null,
   "metadata": {},
   "outputs": [],
   "source": [
    "y = circle_area(2)\n",
    "y"
   ]
  },
  {
   "cell_type": "code",
   "execution_count": null,
   "metadata": {},
   "outputs": [],
   "source": [
    "y is None"
   ]
  },
  {
   "cell_type": "markdown",
   "metadata": {},
   "source": [
    "#### Exercise: Functions"
   ]
  },
  {
   "cell_type": "code",
   "execution_count": null,
   "metadata": {},
   "outputs": [],
   "source": [
    "def f(x):\n",
    "    return x**2 + 2*x - 3\n",
    "\n",
    "print(f(0))\n",
    "print(f(2))\n",
    "print(f(f(f(2))))"
   ]
  },
  {
   "cell_type": "code",
   "execution_count": null,
   "metadata": {},
   "outputs": [],
   "source": [
    "def box_surface(w, l, h):\n",
    "    return 2*(w*l + l*h + h*w)"
   ]
  },
  {
   "cell_type": "markdown",
   "metadata": {},
   "source": [
    "***"
   ]
  },
  {
   "cell_type": "markdown",
   "metadata": {},
   "source": [
    "## If"
   ]
  },
  {
   "cell_type": "code",
   "execution_count": null,
   "metadata": {},
   "outputs": [],
   "source": [
    "age = 10\n",
    "if age < 18:\n",
    "    print('WARNING: You are too young to be drinking beer!')"
   ]
  },
  {
   "cell_type": "code",
   "execution_count": null,
   "metadata": {},
   "outputs": [],
   "source": [
    "age = 23\n",
    "if age < 18:\n",
    "    print('WARNING: You are too young to be drinking beer!')\n",
    "else:\n",
    "    print(\"Thanks for buying our beer. When you drink, DON'T drive!\")"
   ]
  },
  {
   "cell_type": "code",
   "execution_count": null,
   "metadata": {},
   "outputs": [],
   "source": [
    "print('Thanks for buying our beer. When you drink, DON'T drive!')  # error: invalid syntax"
   ]
  },
  {
   "cell_type": "code",
   "execution_count": null,
   "metadata": {},
   "outputs": [],
   "source": [
    "age = 60\n",
    "if age < 18:\n",
    "    print('WARNING: You are too young to be drinking beer!')\n",
    "elif age == 18:\n",
    "    print(\"Congratulations! You've just turned adult and can drink beer! \")\n",
    "elif age >= 80:\n",
    "    print('Hi there, at your age, you should not be drinking beer, take care!')\n",
    "else:\n",
    "    print(\"Thanks for buying our beer. When you drink, DON'T drive!\")"
   ]
  },
  {
   "cell_type": "code",
   "execution_count": null,
   "metadata": {},
   "outputs": [],
   "source": [
    "def beer_msg(age):\n",
    "    if age < 18:\n",
    "        print('WARNING: You are too young to be drinking beer!')\n",
    "    elif age == 18:\n",
    "        print(\"Congratulations! You've just turned adult and can drink beer! \")\n",
    "    elif age >= 80:\n",
    "        print('Hi there, at your age, you should not be drinking beer, take care!')\n",
    "    else:\n",
    "        print(\"Thanks for buying our beer. When you drink, DON'T drive!\")"
   ]
  },
  {
   "cell_type": "code",
   "execution_count": null,
   "metadata": {},
   "outputs": [],
   "source": [
    "beer_msg(0)\n",
    "beer_msg(18)\n",
    "beer_msg(30)\n",
    "beer_msg(90)"
   ]
  },
  {
   "cell_type": "markdown",
   "metadata": {},
   "source": [
    "#### Exercises: If"
   ]
  },
  {
   "cell_type": "code",
   "execution_count": null,
   "metadata": {},
   "outputs": [],
   "source": [
    "def how_many(siblings):\n",
    "    if siblings == 0:\n",
    "        print(\"Hi there, let's be friends!\")\n",
    "    elif siblings < 5:\n",
    "        print('How many brothers do you have? How many sisters do you have?')\n",
    "    else:\n",
    "        print('Hey, you can form a basketball team with your siblings! Good for you!')\n",
    "\n",
    "how_many(0)\n",
    "how_many(3)\n",
    "how_many(5)"
   ]
  },
  {
   "cell_type": "code",
   "execution_count": null,
   "metadata": {},
   "outputs": [],
   "source": [
    "def cashier(p, n, e):\n",
    "    total = 6.5*p + 15*n + 4.8*e\n",
    "    if total >= 50:\n",
    "        return total*0.7\n",
    "    elif total >= 25:\n",
    "        return total*0.9\n",
    "    else:\n",
    "        return total\n",
    "\n",
    "cashier(2, 0, 1)\n",
    "cashier(3, 1, 0)\n",
    "cashier(3, 2, 4)\n",
    "\n",
    "# explanation: A common error is putting total >= 25. But this makes\n",
    "#              any total >= 25 (like 100) falls into this if slot.\n",
    "#              The correct way is to put total >= 50 first."
   ]
  },
  {
   "cell_type": "markdown",
   "metadata": {},
   "source": [
    "***"
   ]
  },
  {
   "cell_type": "markdown",
   "metadata": {},
   "source": [
    "## For Loop I: basics"
   ]
  },
  {
   "cell_type": "code",
   "execution_count": null,
   "metadata": {},
   "outputs": [],
   "source": [
    "for k in range(3, 10):\n",
    "    print(k)\n",
    "    print('Hello')"
   ]
  },
  {
   "cell_type": "code",
   "execution_count": null,
   "metadata": {},
   "outputs": [],
   "source": [
    "answer = 0\n",
    "for n in range(1, 11):\n",
    "    answer = answer + n      # note there is 4 spaces at the beginning of this line\n",
    "print(answer)"
   ]
  },
  {
   "cell_type": "markdown",
   "metadata": {},
   "source": [
    "#### Exercises: For Loop I: basics"
   ]
  },
  {
   "cell_type": "code",
   "execution_count": null,
   "metadata": {},
   "outputs": [],
   "source": [
    "for k in range(3, 17):\n",
    "    print(2*k)"
   ]
  },
  {
   "cell_type": "code",
   "execution_count": null,
   "metadata": {},
   "outputs": [],
   "source": [
    "for k in range(1, 15):\n",
    "    print(\"Python\")"
   ]
  },
  {
   "cell_type": "code",
   "execution_count": null,
   "metadata": {},
   "outputs": [],
   "source": [
    "answer = 0\n",
    "for n in range(1, 101):\n",
    "    answer = answer + n**2      \n",
    "print(answer)"
   ]
  },
  {
   "cell_type": "code",
   "execution_count": null,
   "metadata": {},
   "outputs": [],
   "source": [
    "answer = 0\n",
    "for n in range(14, 73):\n",
    "    answer = answer + (n+1)*n**2      \n",
    "print(answer)"
   ]
  },
  {
   "cell_type": "markdown",
   "metadata": {},
   "source": [
    "***"
   ]
  },
  {
   "cell_type": "markdown",
   "metadata": {},
   "source": [
    "## For Loop II: Initial and termination values "
   ]
  },
  {
   "cell_type": "code",
   "execution_count": null,
   "metadata": {},
   "outputs": [],
   "source": [
    "for k in range(36, 102, 5):\n",
    "    print(k)"
   ]
  },
  {
   "cell_type": "code",
   "execution_count": null,
   "metadata": {},
   "outputs": [],
   "source": [
    "for k in range(28, 5, -2):\n",
    "    print(k)"
   ]
  },
  {
   "cell_type": "code",
   "execution_count": null,
   "metadata": {},
   "outputs": [],
   "source": [
    "for k in [3, 5, 8, 15, 20]:\n",
    "    print(k)"
   ]
  },
  {
   "cell_type": "code",
   "execution_count": null,
   "metadata": {},
   "outputs": [],
   "source": [
    "for k in range(1, 101):\n",
    "    print(k*(k+1)/2)"
   ]
  },
  {
   "cell_type": "code",
   "execution_count": null,
   "metadata": {},
   "outputs": [],
   "source": [
    "answer = 0\n",
    "for k in range(1, 101):\n",
    "    n = k*(k+1)/2\n",
    "    answer = answer + n**2\n",
    "print(answer)"
   ]
  },
  {
   "cell_type": "code",
   "execution_count": null,
   "metadata": {},
   "outputs": [],
   "source": [
    "for k in range(10):\n",
    "    print(k)"
   ]
  },
  {
   "cell_type": "markdown",
   "metadata": {},
   "source": [
    "#### Exercises: For Loop II: Initial and termination values "
   ]
  },
  {
   "cell_type": "code",
   "execution_count": null,
   "metadata": {},
   "outputs": [],
   "source": [
    "sum_3 = 0\n",
    "for k in range(3, 100, 3):\n",
    "     sum_3 += k\n",
    "print(sum_3)"
   ]
  },
  {
   "cell_type": "code",
   "execution_count": null,
   "metadata": {},
   "outputs": [],
   "source": [
    "sum_5 = 0\n",
    "for k in range(5, 100, 5):\n",
    "     sum_5 += k\n",
    "print(sum_5)"
   ]
  },
  {
   "cell_type": "code",
   "execution_count": null,
   "metadata": {},
   "outputs": [],
   "source": [
    "# Q3 requires some mathematical reasoning\n",
    "# if we add answers from Q1 and Q2, we've counted the\n",
    "# multiples of 15 twice. So subtract those\n",
    "sum_15 = 0\n",
    "for k in range(15, 100, 15):\n",
    "     sum_15 += k\n",
    "print(sum_3 + sum_5 - 2*sum_15)"
   ]
  }
 ],
 "metadata": {
  "kernelspec": {
   "display_name": "Python 3",
   "language": "python",
   "name": "python3"
  },
  "language_info": {
   "codemirror_mode": {
    "name": "ipython",
    "version": 3
   },
   "file_extension": ".py",
   "mimetype": "text/x-python",
   "name": "python",
   "nbconvert_exporter": "python",
   "pygments_lexer": "ipython3",
   "version": "3.7.3"
  }
 },
 "nbformat": 4,
 "nbformat_minor": 2
}

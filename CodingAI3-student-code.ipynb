{
 "cells": [
  {
   "cell_type": "markdown",
   "metadata": {},
   "source": [
    "# Code for CodingAI Lesson 3 "
   ]
  },
  {
   "cell_type": "markdown",
   "metadata": {},
   "source": [
    "***"
   ]
  },
  {
   "cell_type": "markdown",
   "metadata": {},
   "source": [
    "## While loop"
   ]
  },
  {
   "cell_type": "code",
   "execution_count": null,
   "metadata": {},
   "outputs": [],
   "source": [
    "input_valid = False\n",
    "while (not input_valid):\n",
    "    pw = input('Please enter a password with >= 10 characters: ')\n",
    "    if len(pw) >= 10:\n",
    "        input_valid = True\n",
    "    else:\n",
    "        print('Passwords with less than 10 char are not strong. Please choose another.')\n",
    "print('OK! Your new password is', pw)"
   ]
  },
  {
   "cell_type": "markdown",
   "metadata": {},
   "source": [
    "#### Exercises: While loop"
   ]
  },
  {
   "cell_type": "code",
   "execution_count": null,
   "metadata": {},
   "outputs": [],
   "source": []
  },
  {
   "cell_type": "code",
   "execution_count": null,
   "metadata": {},
   "outputs": [],
   "source": []
  },
  {
   "cell_type": "markdown",
   "metadata": {},
   "source": [
    "***"
   ]
  },
  {
   "cell_type": "markdown",
   "metadata": {},
   "source": [
    "## Lists "
   ]
  },
  {
   "cell_type": "code",
   "execution_count": null,
   "metadata": {},
   "outputs": [],
   "source": [
    "x = [10, 40, 100, 500, 900, 2000, 6000, 10000, 30000, 80000, 'ab', 'c', False]\n",
    "y = [[1,2,3], [4,5,6,7,8], [1,4,9,16,25,36,49,64,81,100]]"
   ]
  },
  {
   "cell_type": "code",
   "execution_count": null,
   "metadata": {},
   "outputs": [],
   "source": [
    "a = [1, 2, 3]*4\n",
    "print(a)\n",
    "b = [False, True, True]*5\n",
    "print(b)"
   ]
  },
  {
   "cell_type": "code",
   "execution_count": null,
   "metadata": {},
   "outputs": [],
   "source": [
    "print(x[0])\n",
    "print(x[1])\n",
    "print(x[-2])\n",
    "print(y[2])\n",
    "print(y[2][5])"
   ]
  },
  {
   "cell_type": "code",
   "execution_count": null,
   "metadata": {},
   "outputs": [],
   "source": [
    "x"
   ]
  },
  {
   "cell_type": "code",
   "execution_count": null,
   "metadata": {},
   "outputs": [],
   "source": [
    "x[1:4]   # initial value included; termination value excluded!"
   ]
  },
  {
   "cell_type": "code",
   "execution_count": null,
   "metadata": {},
   "outputs": [],
   "source": [
    "x[3:-2]"
   ]
  },
  {
   "cell_type": "code",
   "execution_count": null,
   "metadata": {},
   "outputs": [],
   "source": [
    "x[1::2]  # every other element starting from index 1"
   ]
  },
  {
   "cell_type": "code",
   "execution_count": null,
   "metadata": {},
   "outputs": [],
   "source": [
    "x[2::3]  # every third element starting from index 2"
   ]
  },
  {
   "cell_type": "code",
   "execution_count": null,
   "metadata": {},
   "outputs": [],
   "source": [
    "print(x)\n",
    "x[1] += 100\n",
    "print(x)"
   ]
  },
  {
   "cell_type": "code",
   "execution_count": null,
   "metadata": {},
   "outputs": [],
   "source": [
    "z = [1,2,3] + ['a', \"b\", 5]\n",
    "print(z)"
   ]
  },
  {
   "cell_type": "code",
   "execution_count": null,
   "metadata": {},
   "outputs": [],
   "source": [
    "z.append('7')\n",
    "print(z)"
   ]
  },
  {
   "cell_type": "code",
   "execution_count": null,
   "metadata": {},
   "outputs": [],
   "source": [
    "z.insert(2, 10000)   # insert 10000 to position 2\n",
    "print(z)             # everything after 2 shifted 1 place to the right"
   ]
  },
  {
   "cell_type": "code",
   "execution_count": null,
   "metadata": {},
   "outputs": [],
   "source": [
    "for item in x:   # item is a dummy variable. You can use other un-used name.\n",
    "    print(item)"
   ]
  },
  {
   "cell_type": "code",
   "execution_count": null,
   "metadata": {},
   "outputs": [],
   "source": [
    "print(len(x))\n",
    "print(len(a))\n",
    "print(len(b))\n",
    "print(len(y))   # !"
   ]
  },
  {
   "cell_type": "code",
   "execution_count": null,
   "metadata": {},
   "outputs": [],
   "source": [
    "2 in b"
   ]
  },
  {
   "cell_type": "code",
   "execution_count": null,
   "metadata": {},
   "outputs": [],
   "source": [
    "'a' in z"
   ]
  },
  {
   "cell_type": "code",
   "execution_count": null,
   "metadata": {},
   "outputs": [],
   "source": [
    "'A' in z"
   ]
  },
  {
   "cell_type": "code",
   "execution_count": null,
   "metadata": {},
   "outputs": [],
   "source": [
    "'ab' in z"
   ]
  },
  {
   "cell_type": "code",
   "execution_count": null,
   "metadata": {},
   "outputs": [],
   "source": [
    "False in x"
   ]
  },
  {
   "cell_type": "code",
   "execution_count": null,
   "metadata": {},
   "outputs": [],
   "source": [
    "print(min(a))\n",
    "print(sum(b))"
   ]
  },
  {
   "cell_type": "markdown",
   "metadata": {},
   "source": [
    "#### Exercises: Lists"
   ]
  },
  {
   "cell_type": "code",
   "execution_count": null,
   "metadata": {},
   "outputs": [],
   "source": [
    "def keep_pos(x):\n",
    "    # TODO\n",
    "\n",
    "keep_pos([5, 10, -4, 1, 77, 83, -20])"
   ]
  },
  {
   "cell_type": "markdown",
   "metadata": {},
   "source": [
    "***"
   ]
  },
  {
   "cell_type": "markdown",
   "metadata": {},
   "source": [
    "## Problem-Solving with programming II: Solution"
   ]
  },
  {
   "cell_type": "code",
   "execution_count": null,
   "metadata": {},
   "outputs": [],
   "source": [
    "## Code v0.1 ########################################\n",
    "\n",
    "# dummy inputs. Use to test our code below\n",
    "n = 5\n",
    "k = 2\n",
    "\n",
    "# key variables\n",
    "people = [True]*n       # True means standing. A list of length n. Initially all standing\n",
    "c = 0                   # our counter\n",
    "walk = -1               # current position of our walk. -1 is like not yet started.\n",
    "\n",
    "# use while loop\n",
    "while (False):          # exit condition: when no one standing. See Detail 2 above.\n",
    "    walk += 1           # walk to next person\n",
    "\n",
    "## End of code v0.1 ###################################"
   ]
  },
  {
   "cell_type": "code",
   "execution_count": null,
   "metadata": {},
   "outputs": [],
   "source": [
    "#Q1 \"is there anyone standing\"\n",
    "people = [True]*n\n",
    "# TODO"
   ]
  },
  {
   "cell_type": "code",
   "execution_count": null,
   "metadata": {},
   "outputs": [],
   "source": [
    "#Q2 \"reset walk to 0 when walk reaches n\"\n"
   ]
  },
  {
   "cell_type": "code",
   "execution_count": null,
   "metadata": {},
   "outputs": [],
   "source": [
    "#Q3 check if current person is standing\n",
    "\n",
    "#Q3 \"c increases by 1 when the current person is standing\"\n"
   ]
  },
  {
   "cell_type": "code",
   "execution_count": null,
   "metadata": {},
   "outputs": [],
   "source": [
    "#Q4 \"put the current person to sit down\"\n",
    "\n",
    "\n",
    "#Q4 \"we only ask … counter to 0\"\n"
   ]
  },
  {
   "cell_type": "code",
   "execution_count": null,
   "metadata": {},
   "outputs": [],
   "source": [
    "## Code v0.2 ########################################\n",
    "\n",
    "# dummy inputs. Use to test our code below\n",
    "n = 21\n",
    "k = 2\n",
    "\n",
    "# key variables\n",
    "people = [True]*n       # True means standing. A list of length n. Initially all standing\n",
    "c = 0                   # our counter\n",
    "walk = -1               # current position of our walk. -1 is like not yet started.\n",
    "\n",
    "# use while loop\n",
    "while (sum(people) > 0):    # exit condition: when no one standing\n",
    "    walk += 1               # walk to next person\n",
    "    walk = walk % n         # if walk == n, reset to 0. \n",
    "    if people[walk]:                # if the person at walk is standing  \n",
    "        c += 1                      #     increase our counter by 1   \n",
    "        if (c == k):                #     if counter reaches k\n",
    "            people[walk] = False    #        sit the person down \n",
    "            c = 0                   #        reset counter to 0\n",
    "print(walk)           #  the current position = last person to sit down = last person standing\n",
    "\n",
    "## End of code v0.2 ###################################"
   ]
  },
  {
   "cell_type": "code",
   "execution_count": null,
   "metadata": {},
   "outputs": [],
   "source": [
    "## Code final v. ###################################\n",
    "\n",
    "def game(n, k):\n",
    "    people = [True]*n  \n",
    "    c = 0\n",
    "    walk = -1        \n",
    "    while (sum(people) > 0):\n",
    "        walk += 1\n",
    "        walk = walk % n\n",
    "        if people[walk]:\n",
    "            c += 1         \n",
    "            if (c == k):                \n",
    "                people[walk] = False\n",
    "                c = 0\n",
    "    return walk + 1  # +1 convert to math index\n",
    "\n",
    "## End of Code final ###################################"
   ]
  },
  {
   "cell_type": "code",
   "execution_count": null,
   "metadata": {},
   "outputs": [],
   "source": []
  },
  {
   "cell_type": "code",
   "execution_count": null,
   "metadata": {},
   "outputs": [],
   "source": []
  },
  {
   "cell_type": "code",
   "execution_count": null,
   "metadata": {},
   "outputs": [],
   "source": []
  }
 ],
 "metadata": {
  "kernelspec": {
   "display_name": "Python 3",
   "language": "python",
   "name": "python3"
  },
  "language_info": {
   "codemirror_mode": {
    "name": "ipython",
    "version": 3
   },
   "file_extension": ".py",
   "mimetype": "text/x-python",
   "name": "python",
   "nbconvert_exporter": "python",
   "pygments_lexer": "ipython3",
   "version": "3.7.3"
  }
 },
 "nbformat": 4,
 "nbformat_minor": 2
}
